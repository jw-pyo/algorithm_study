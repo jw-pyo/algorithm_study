{
 "cells": [
  {
   "cell_type": "markdown",
   "metadata": {},
   "source": [
    "# Greedy algorithm"
   ]
  },
  {
   "cell_type": "markdown",
   "metadata": {},
   "source": [
    "<img src=\"../asset/greedy_algorithm/fig1.jpg\" alt=\"img\" style=\"width: 600px;\"/>"
   ]
  },
  {
   "cell_type": "markdown",
   "metadata": {},
   "source": [
    "## 1. Activity selection\n",
    "\n",
    "- Select maximum set of mutually compatible activities.\n",
    "\n",
    "<img src=\"../asset/greedy_algorithm/fig2.jpg\" alt=\"img\" style=\"width: 600px;\"/>\n",
    "<img src=\"../asset/greedy_algorithm/fig3.jpg\" alt=\"img\" style=\"width: 600px;\"/>"
   ]
  },
  {
   "cell_type": "code",
   "execution_count": 28,
   "metadata": {},
   "outputs": [],
   "source": [
    "import random\n",
    "import time\n",
    "import numpy as np\n",
    "\n",
    "n_activity = 11\n",
    "\n",
    "s_list = [1, 3, 0, 5, 3, 5, 6, 8, 8, 2, 12]\n",
    "f_list = [4, 5, 6, 7, 8, 9, 10, 11, 12, 13, 14]\n",
    "\n",
    "assert len(s_list) == n_activity\n",
    "assert len(f_list) == n_activity"
   ]
  },
  {
   "cell_type": "markdown",
   "metadata": {},
   "source": [
    "### Method 1) Dynamic programming\n",
    "\n",
    "<img src=\"../asset/greedy_algorithm/fig4.jpg\" alt=\"img\" style=\"width: 600px;\"/>\n",
    "<img src=\"../asset/greedy_algorithm/fig5.jpg\" alt=\"img\" style=\"width: 600px;\"/>\n",
    "<img src=\"../asset/greedy_algorithm/fig6.jpg\" alt=\"img\" style=\"width: 600px;\"/>\n",
    "<img src=\"../asset/greedy_algorithm/fig7.jpg\" alt=\"img\" style=\"width: 600px;\"/>\n",
    "<img src=\"../asset/greedy_algorithm/fig8.jpg\" alt=\"img\" style=\"width: 600px;\"/>\n",
    "<img src=\"../asset/greedy_algorithm/fig9.jpg\" alt=\"img\" style=\"width: 600px;\"/>"
   ]
  },
  {
   "cell_type": "code",
   "execution_count": 51,
   "metadata": {},
   "outputs": [
    {
     "name": "stdout",
     "output_type": "stream",
     "text": [
      "ans 4\n"
     ]
    }
   ],
   "source": [
    "c = -np.ones((n_activity+2, n_activity+2), int)\n",
    "\n",
    "s_list_new = [0] + s_list + [999]\n",
    "f_list_new = [0] + f_list + [999]\n",
    "\n",
    "def get_compatible_set(i, j):\n",
    "    time_s = f_list_new[i]\n",
    "    time_f = s_list_new[j]\n",
    "    s_ij = []\n",
    "    \n",
    "    for k in range(1, n_activity+1):\n",
    "        if s_list_new[k] >= time_s and f_list_new[k] <= time_f:\n",
    "            s_ij.append(k)\n",
    "            \n",
    "    return s_ij\n",
    "\n",
    "def recursive_solver(i, j):\n",
    "    if c[i,j] >= 0:\n",
    "        return c[i,j]\n",
    "    \n",
    "    s_ij = get_compatible_set(i, j)\n",
    "    \n",
    "    if len(s_ij) == 0:\n",
    "        c[i,j] = 0\n",
    "    else:\n",
    "        for k in s_ij:\n",
    "            c_ikj = recursive_solver(i, k) + recursive_solver(k, j) + 1 \n",
    "            if c_ikj > c[i,j]:\n",
    "                c[i,j] = c_ikj\n",
    "    return c[i,j]\n",
    "    \n",
    "ans = recursive_solver(0, n_activity+1)\n",
    "print('ans', ans)"
   ]
  },
  {
   "cell_type": "markdown",
   "metadata": {},
   "source": [
    "### Method 2) Greedy search\n",
    "\n",
    "\n",
    "<img src=\"../asset/greedy_algorithm/fig10.jpg\" alt=\"img\" style=\"width: 600px;\"/>\n",
    "<img src=\"../asset/greedy_algorithm/fig11.jpg\" alt=\"img\" style=\"width: 600px;\"/>"
   ]
  },
  {
   "cell_type": "code",
   "execution_count": 52,
   "metadata": {},
   "outputs": [
    {
     "name": "stdout",
     "output_type": "stream",
     "text": [
      "ans 4\n"
     ]
    }
   ],
   "source": [
    "f_cur = 0\n",
    "ans = 0\n",
    "for i in range(n_activity):\n",
    "    if s_list[i] >= f_cur:\n",
    "        f_cur = f_list[i]\n",
    "        ans += 1 \n",
    "print('ans', ans)"
   ]
  },
  {
   "cell_type": "markdown",
   "metadata": {},
   "source": [
    "## 2. Knapsack Problem\n",
    "\n",
    "<img src=\"../asset/greedy_algorithm/fig12.jpg\" alt=\"img\" style=\"width: 600px;\"/>\n",
    "<img src=\"../asset/greedy_algorithm/fig13.jpg\" alt=\"img\" style=\"width: 600px;\"/>\n",
    "<img src=\"../asset/greedy_algorithm/fig14.jpg\" alt=\"img\" style=\"width: 600px;\"/>\n",
    "<img src=\"../asset/greedy_algorithm/fig15.jpg\" alt=\"img\" style=\"width: 600px;\"/>\n",
    "<img src=\"../asset/greedy_algorithm/fig16.jpg\" alt=\"img\" style=\"width: 600px;\"/>\n",
    "<img src=\"../asset/greedy_algorithm/fig17.jpg\" alt=\"img\" style=\"width: 600px;\"/>\n",
    "<img src=\"../asset/greedy_algorithm/fig18.jpg\" alt=\"img\" style=\"width: 600px;\"/>\n"
   ]
  },
  {
   "cell_type": "code",
   "execution_count": 56,
   "metadata": {},
   "outputs": [
    {
     "name": "stdout",
     "output_type": "stream",
     "text": [
      "ans 220.0\n"
     ]
    }
   ],
   "source": [
    "weight = [1, 2, 3]\n",
    "value = [60, 100, 120]\n",
    "\n",
    "def DP_knapsack(n_item, w_max):\n",
    "    c = np.zeros((n_item, w_max+1))\n",
    "    \n",
    "    for i in range(n_item):\n",
    "        for w in range(w_max+1):\n",
    "            if weight[i] <= w:\n",
    "                c[i, w] = max(c[i-1, w], value[i] + c[i-1, w-weight[i]])\n",
    "            else:\n",
    "                c[i, w] = c[i-1, w]\n",
    "                \n",
    "    return c[-1, -1]\n",
    "\n",
    "ans = DP_knapsack(3, 5)\n",
    "print('ans', ans)\n",
    "\n"
   ]
  },
  {
   "cell_type": "code",
   "execution_count": null,
   "metadata": {},
   "outputs": [],
   "source": []
  }
 ],
 "metadata": {
  "kernelspec": {
   "display_name": "Python 3",
   "language": "python",
   "name": "python3"
  },
  "language_info": {
   "codemirror_mode": {
    "name": "ipython",
    "version": 3
   },
   "file_extension": ".py",
   "mimetype": "text/x-python",
   "name": "python",
   "nbconvert_exporter": "python",
   "pygments_lexer": "ipython3",
   "version": "3.7.3"
  }
 },
 "nbformat": 4,
 "nbformat_minor": 2
}
