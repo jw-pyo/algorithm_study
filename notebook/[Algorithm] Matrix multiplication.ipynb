{
 "cells": [
  {
   "cell_type": "code",
   "execution_count": 3,
   "metadata": {},
   "outputs": [],
   "source": [
    "import numpy as np\n",
    "import time"
   ]
  },
  {
   "cell_type": "code",
   "execution_count": 14,
   "metadata": {},
   "outputs": [
    {
     "name": "stdout",
     "output_type": "stream",
     "text": [
      "Matmul 1 - Total time:  0.8218019008636475\n",
      "Matmul 2 - Total time:  0.12367010116577148\n"
     ]
    }
   ],
   "source": [
    "A = np.random.rand(1000, 10000)\n",
    "B = np.random.rand(10000, 5000)\n",
    "C = np.random.rand(5000, 100)\n",
    "\n",
    "timestamp = time.time()\n",
    "res = np.matmul(A, B)\n",
    "res = np.matmul(res, C)\n",
    "print('Matmul 1 - Total time: ', time.time() - timestamp)\n",
    "\n",
    "timestamp = time.time()\n",
    "res = np.matmul(B, C)\n",
    "res = np.matmul(A, res)\n",
    "print('Matmul 2 - Total time: ', time.time() - timestamp)"
   ]
  },
  {
   "cell_type": "code",
   "execution_count": null,
   "metadata": {},
   "outputs": [],
   "source": []
  },
  {
   "cell_type": "code",
   "execution_count": null,
   "metadata": {},
   "outputs": [],
   "source": []
  }
 ],
 "metadata": {
  "kernelspec": {
   "display_name": "Python 3",
   "language": "python",
   "name": "python3"
  },
  "language_info": {
   "codemirror_mode": {
    "name": "ipython",
    "version": 3
   },
   "file_extension": ".py",
   "mimetype": "text/x-python",
   "name": "python",
   "nbconvert_exporter": "python",
   "pygments_lexer": "ipython3",
   "version": "3.7.3"
  }
 },
 "nbformat": 4,
 "nbformat_minor": 2
}
